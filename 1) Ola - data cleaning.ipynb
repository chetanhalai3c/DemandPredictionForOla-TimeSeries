{
 "cells": [
  {
   "cell_type": "markdown",
   "metadata": {},
   "source": [
    "### OLA Bike - Rides Request Demand Forecast Project Overview"
   ]
  },
  {
   "cell_type": "markdown",
   "metadata": {},
   "source": [
    "#### Business Problem\n",
    "Ola Bikes are suffering losses and losing out from their competition due to their inability to fulfill the ride requests of many users. To tackle this problem you are asked to predict demand for rides in a certain region and a given future time window. This would help them allocate drivers more intelligently to meet the ride requests from users.\n",
    "\n",
    "\n",
    "\n",
    "#### Goal\n",
    "You have to predict ride requests (demand forecast) for a particular latitude and longitude for a requested future time window/duration.\n",
    "##Data Description\n",
    "Raw Data contains a `number` (unique for every user), ride request DateTime (IST time),\n",
    "pickup and drop location latitude, and longitude.\n",
    "\n",
    "\n",
    "\n",
    "#### Data Field\n",
    "1. number: unique id for every user\n",
    "2. ts: DateTime of booking ride (IST time)\n",
    "3. pick_lat: ride request pickup latitude\n",
    "4. pick_lng: ride request pickup longitude\n",
    "5. drop_lat: ride request drop latitude\n",
    "6. drop_lng: ride request drop longitude\n",
    "\n",
    "\n",
    "\n",
    "#### Defining a Good Ride Request\n",
    "Ola Management knows the task is not easy and very important for their business to grow.\n",
    "Hence, their business team has provided you some guidelines to follow.\n",
    "1. Count only 1 ride request by a user, if there are multiple bookings from the same latitude and longitude within 1hour of the last booking time.\n",
    "2. If there are ride requests within 8mins of the last booking time consider only 1 ride\n",
    "request from a user (latitude and longitude may or may not be the same).\n",
    "3. If the geodesic distance from pickup and drop point is less than 50meters\n",
    "consider that ride request as a fraud ride request.\n",
    "4. Consider all ride requests where pick up or drop location is outside India bounding box: ['6.2325274', '35.6745457', '68.1113787', '97.395561'] as system error.\n",
    "5. Karnataka is our prime city where we have a lot of drivers and ride requests to fulfill. We would not love to serve rides that are outside Karnataka and have pickup and drop geodesic distance > 500kms. Karnataka bounding box: ['11.5945587', '18.4767308','74.0543908', '78.588083']"
   ]
  },
  {
   "cell_type": "markdown",
   "metadata": {},
   "source": [
    "### Data Exploration and Cleanup (basic) script\n",
    "Our aim here is to understand our dataset and do a basic cleanup removing NaNs & Duplicates. "
   ]
  },
  {
   "cell_type": "code",
   "execution_count": 39,
   "metadata": {},
   "outputs": [],
   "source": [
    "import pandas as pd \n",
    "import numpy as np "
   ]
  },
  {
   "cell_type": "code",
   "execution_count": 40,
   "metadata": {},
   "outputs": [
    {
     "name": "stderr",
     "output_type": "stream",
     "text": [
      "/var/folders/8c/x24h_w8n7hb83_lmdv9v2zdm0000gn/T/ipykernel_10350/404148525.py:1: DtypeWarning: Columns (1) have mixed types. Specify dtype option on import or set low_memory=False.\n",
      "  df = pd.read_csv('/Users/chetanhalai/Documents/code base for projects/7) Ola Bike Rides/data/raw_data.csv', compression='gzip')\n"
     ]
    }
   ],
   "source": [
    "df = pd.read_csv('/Users/chetanhalai/Documents/code base for projects/7) Ola Bike Rides/data/raw_data.csv', compression='gzip')\n"
   ]
  },
  {
   "cell_type": "code",
   "execution_count": 41,
   "metadata": {},
   "outputs": [
    {
     "data": {
      "text/plain": [
       "(8381556, 6)"
      ]
     },
     "execution_count": 41,
     "metadata": {},
     "output_type": "execute_result"
    }
   ],
   "source": [
    "df.shape"
   ]
  },
  {
   "cell_type": "code",
   "execution_count": 42,
   "metadata": {},
   "outputs": [
    {
     "data": {
      "text/html": [
       "<div>\n",
       "<style scoped>\n",
       "    .dataframe tbody tr th:only-of-type {\n",
       "        vertical-align: middle;\n",
       "    }\n",
       "\n",
       "    .dataframe tbody tr th {\n",
       "        vertical-align: top;\n",
       "    }\n",
       "\n",
       "    .dataframe thead th {\n",
       "        text-align: right;\n",
       "    }\n",
       "</style>\n",
       "<table border=\"1\" class=\"dataframe\">\n",
       "  <thead>\n",
       "    <tr style=\"text-align: right;\">\n",
       "      <th></th>\n",
       "      <th>ts</th>\n",
       "      <th>number</th>\n",
       "      <th>pick_lat</th>\n",
       "      <th>pick_lng</th>\n",
       "      <th>drop_lat</th>\n",
       "      <th>drop_lng</th>\n",
       "    </tr>\n",
       "  </thead>\n",
       "  <tbody>\n",
       "    <tr>\n",
       "      <th>0</th>\n",
       "      <td>2020-03-26 07:07:17</td>\n",
       "      <td>14626</td>\n",
       "      <td>12.313621</td>\n",
       "      <td>76.658195</td>\n",
       "      <td>12.287301</td>\n",
       "      <td>76.602280</td>\n",
       "    </tr>\n",
       "    <tr>\n",
       "      <th>1</th>\n",
       "      <td>2020-03-26 07:32:27</td>\n",
       "      <td>85490</td>\n",
       "      <td>12.943947</td>\n",
       "      <td>77.560745</td>\n",
       "      <td>12.954014</td>\n",
       "      <td>77.543770</td>\n",
       "    </tr>\n",
       "    <tr>\n",
       "      <th>2</th>\n",
       "      <td>2020-03-26 07:36:44</td>\n",
       "      <td>05408</td>\n",
       "      <td>12.899603</td>\n",
       "      <td>77.587300</td>\n",
       "      <td>12.934780</td>\n",
       "      <td>77.569950</td>\n",
       "    </tr>\n",
       "    <tr>\n",
       "      <th>3</th>\n",
       "      <td>2020-03-26 07:38:00</td>\n",
       "      <td>58940</td>\n",
       "      <td>12.918229</td>\n",
       "      <td>77.607544</td>\n",
       "      <td>12.968971</td>\n",
       "      <td>77.636375</td>\n",
       "    </tr>\n",
       "    <tr>\n",
       "      <th>4</th>\n",
       "      <td>2020-03-26 07:39:29</td>\n",
       "      <td>05408</td>\n",
       "      <td>12.899490</td>\n",
       "      <td>77.587270</td>\n",
       "      <td>12.934780</td>\n",
       "      <td>77.569950</td>\n",
       "    </tr>\n",
       "  </tbody>\n",
       "</table>\n",
       "</div>"
      ],
      "text/plain": [
       "                    ts number   pick_lat   pick_lng   drop_lat   drop_lng\n",
       "0  2020-03-26 07:07:17  14626  12.313621  76.658195  12.287301  76.602280\n",
       "1  2020-03-26 07:32:27  85490  12.943947  77.560745  12.954014  77.543770\n",
       "2  2020-03-26 07:36:44  05408  12.899603  77.587300  12.934780  77.569950\n",
       "3  2020-03-26 07:38:00  58940  12.918229  77.607544  12.968971  77.636375\n",
       "4  2020-03-26 07:39:29  05408  12.899490  77.587270  12.934780  77.569950"
      ]
     },
     "execution_count": 42,
     "metadata": {},
     "output_type": "execute_result"
    }
   ],
   "source": [
    "df.head()"
   ]
  },
  {
   "cell_type": "code",
   "execution_count": 43,
   "metadata": {},
   "outputs": [
    {
     "data": {
      "text/html": [
       "<div>\n",
       "<style scoped>\n",
       "    .dataframe tbody tr th:only-of-type {\n",
       "        vertical-align: middle;\n",
       "    }\n",
       "\n",
       "    .dataframe tbody tr th {\n",
       "        vertical-align: top;\n",
       "    }\n",
       "\n",
       "    .dataframe thead th {\n",
       "        text-align: right;\n",
       "    }\n",
       "</style>\n",
       "<table border=\"1\" class=\"dataframe\">\n",
       "  <thead>\n",
       "    <tr style=\"text-align: right;\">\n",
       "      <th></th>\n",
       "      <th>ts</th>\n",
       "      <th>number</th>\n",
       "      <th>pick_lat</th>\n",
       "      <th>pick_lng</th>\n",
       "      <th>drop_lat</th>\n",
       "      <th>drop_lng</th>\n",
       "    </tr>\n",
       "  </thead>\n",
       "  <tbody>\n",
       "    <tr>\n",
       "      <th>235</th>\n",
       "      <td>2020-03-26 18:10:35</td>\n",
       "      <td>16795</td>\n",
       "      <td>12.967236</td>\n",
       "      <td>77.641594</td>\n",
       "      <td>13.014504</td>\n",
       "      <td>77.650856</td>\n",
       "    </tr>\n",
       "    <tr>\n",
       "      <th>236</th>\n",
       "      <td>2020-03-26 18:10:35</td>\n",
       "      <td>16795</td>\n",
       "      <td>12.967236</td>\n",
       "      <td>77.641594</td>\n",
       "      <td>13.014504</td>\n",
       "      <td>77.650856</td>\n",
       "    </tr>\n",
       "    <tr>\n",
       "      <th>407</th>\n",
       "      <td>2020-03-26 21:35:50</td>\n",
       "      <td>65856</td>\n",
       "      <td>12.917173</td>\n",
       "      <td>77.586400</td>\n",
       "      <td>12.913940</td>\n",
       "      <td>77.685280</td>\n",
       "    </tr>\n",
       "    <tr>\n",
       "      <th>408</th>\n",
       "      <td>2020-03-26 21:35:50</td>\n",
       "      <td>65856</td>\n",
       "      <td>12.917173</td>\n",
       "      <td>77.586400</td>\n",
       "      <td>12.913940</td>\n",
       "      <td>77.685280</td>\n",
       "    </tr>\n",
       "    <tr>\n",
       "      <th>443</th>\n",
       "      <td>2020-03-26 23:26:29</td>\n",
       "      <td>27554</td>\n",
       "      <td>12.933715</td>\n",
       "      <td>77.619300</td>\n",
       "      <td>12.938208</td>\n",
       "      <td>77.587520</td>\n",
       "    </tr>\n",
       "    <tr>\n",
       "      <th>...</th>\n",
       "      <td>...</td>\n",
       "      <td>...</td>\n",
       "      <td>...</td>\n",
       "      <td>...</td>\n",
       "      <td>...</td>\n",
       "      <td>...</td>\n",
       "    </tr>\n",
       "    <tr>\n",
       "      <th>8381231</th>\n",
       "      <td>2021-03-26 22:23:12</td>\n",
       "      <td>61636</td>\n",
       "      <td>12.975229</td>\n",
       "      <td>77.620370</td>\n",
       "      <td>13.017285</td>\n",
       "      <td>77.618200</td>\n",
       "    </tr>\n",
       "    <tr>\n",
       "      <th>8381245</th>\n",
       "      <td>2021-03-26 22:25:13</td>\n",
       "      <td>61636</td>\n",
       "      <td>12.975229</td>\n",
       "      <td>77.620370</td>\n",
       "      <td>13.017285</td>\n",
       "      <td>77.618200</td>\n",
       "    </tr>\n",
       "    <tr>\n",
       "      <th>8381246</th>\n",
       "      <td>2021-03-26 22:25:13</td>\n",
       "      <td>61636</td>\n",
       "      <td>12.975229</td>\n",
       "      <td>77.620370</td>\n",
       "      <td>13.017285</td>\n",
       "      <td>77.618200</td>\n",
       "    </tr>\n",
       "    <tr>\n",
       "      <th>8381248</th>\n",
       "      <td>2021-03-26 22:25:27</td>\n",
       "      <td>61636</td>\n",
       "      <td>12.975229</td>\n",
       "      <td>77.620370</td>\n",
       "      <td>13.017285</td>\n",
       "      <td>77.618200</td>\n",
       "    </tr>\n",
       "    <tr>\n",
       "      <th>8381249</th>\n",
       "      <td>2021-03-26 22:25:27</td>\n",
       "      <td>61636</td>\n",
       "      <td>12.975229</td>\n",
       "      <td>77.620370</td>\n",
       "      <td>13.017285</td>\n",
       "      <td>77.618200</td>\n",
       "    </tr>\n",
       "  </tbody>\n",
       "</table>\n",
       "<p>113540 rows × 6 columns</p>\n",
       "</div>"
      ],
      "text/plain": [
       "                          ts number   pick_lat   pick_lng   drop_lat  \\\n",
       "235      2020-03-26 18:10:35  16795  12.967236  77.641594  13.014504   \n",
       "236      2020-03-26 18:10:35  16795  12.967236  77.641594  13.014504   \n",
       "407      2020-03-26 21:35:50  65856  12.917173  77.586400  12.913940   \n",
       "408      2020-03-26 21:35:50  65856  12.917173  77.586400  12.913940   \n",
       "443      2020-03-26 23:26:29  27554  12.933715  77.619300  12.938208   \n",
       "...                      ...    ...        ...        ...        ...   \n",
       "8381231  2021-03-26 22:23:12  61636  12.975229  77.620370  13.017285   \n",
       "8381245  2021-03-26 22:25:13  61636  12.975229  77.620370  13.017285   \n",
       "8381246  2021-03-26 22:25:13  61636  12.975229  77.620370  13.017285   \n",
       "8381248  2021-03-26 22:25:27  61636  12.975229  77.620370  13.017285   \n",
       "8381249  2021-03-26 22:25:27  61636  12.975229  77.620370  13.017285   \n",
       "\n",
       "          drop_lng  \n",
       "235      77.650856  \n",
       "236      77.650856  \n",
       "407      77.685280  \n",
       "408      77.685280  \n",
       "443      77.587520  \n",
       "...            ...  \n",
       "8381231  77.618200  \n",
       "8381245  77.618200  \n",
       "8381246  77.618200  \n",
       "8381248  77.618200  \n",
       "8381249  77.618200  \n",
       "\n",
       "[113540 rows x 6 columns]"
      ]
     },
     "execution_count": 43,
     "metadata": {},
     "output_type": "execute_result"
    }
   ],
   "source": [
    "# Removing Diplicate Entreis - - A customer ID number at a particular time stamp can only have one entry \n",
    "#  so i aill have to remove duplicate entries - A customer can nott book multiple rides in one timestamp \n",
    "df[df.duplicated(subset=['ts','number'],keep=False)]"
   ]
  },
  {
   "cell_type": "markdown",
   "metadata": {},
   "source": [
    "** Observation **\n",
    "\n",
    "* There are 113540 duplicate entries - we have 8315498 unique timestamp, customer id rows \n"
   ]
  },
  {
   "cell_type": "code",
   "execution_count": 44,
   "metadata": {},
   "outputs": [],
   "source": [
    "df.drop_duplicates(subset=['ts','number'], inplace=True, keep='last')\n",
    "df.reset_index(inplace=True, drop=True)"
   ]
  },
  {
   "cell_type": "code",
   "execution_count": 45,
   "metadata": {},
   "outputs": [
    {
     "name": "stdout",
     "output_type": "stream",
     "text": [
      "<class 'pandas.core.frame.DataFrame'>\n",
      "RangeIndex: 8315498 entries, 0 to 8315497\n",
      "Data columns (total 6 columns):\n",
      " #   Column    Dtype  \n",
      "---  ------    -----  \n",
      " 0   ts        object \n",
      " 1   number    object \n",
      " 2   pick_lat  float64\n",
      " 3   pick_lng  float64\n",
      " 4   drop_lat  float64\n",
      " 5   drop_lng  float64\n",
      "dtypes: float64(4), object(2)\n",
      "memory usage: 380.7+ MB\n"
     ]
    }
   ],
   "source": [
    "df.info()"
   ]
  },
  {
   "cell_type": "code",
   "execution_count": 46,
   "metadata": {},
   "outputs": [],
   "source": [
    "#convert Numbers column from an object to Int \n",
    "df['number'] = pd.to_numeric(df['number'], errors='coerce', downcast='integer')"
   ]
  },
  {
   "cell_type": "markdown",
   "metadata": {},
   "source": [
    "** Observation **\n",
    "\n",
    "Both 'ts' and number column need to be integer values - so i will convertthem \n"
   ]
  },
  {
   "cell_type": "code",
   "execution_count": 47,
   "metadata": {},
   "outputs": [],
   "source": [
    "#convert Numbers column from an object to Int \n",
    "df['number'] = pd.to_numeric(df['number'], errors='coerce', downcast='integer')"
   ]
  },
  {
   "cell_type": "code",
   "execution_count": 48,
   "metadata": {},
   "outputs": [
    {
     "data": {
      "text/plain": [
       "ts            0\n",
       "number      116\n",
       "pick_lat      0\n",
       "pick_lng      0\n",
       "drop_lat      0\n",
       "drop_lng      0\n",
       "dtype: int64"
      ]
     },
     "execution_count": 48,
     "metadata": {},
     "output_type": "execute_result"
    }
   ],
   "source": [
    "df.isnull().sum()"
   ]
  },
  {
   "cell_type": "markdown",
   "metadata": {},
   "source": [
    "** Observation **\n",
    "\n",
    "there are 116 nan rows - need to drop these "
   ]
  },
  {
   "cell_type": "code",
   "execution_count": 51,
   "metadata": {},
   "outputs": [],
   "source": [
    "#converting time stamp to date time \n",
    "df['ts'] = pd.to_datetime(df['ts'])"
   ]
  },
  {
   "cell_type": "code",
   "execution_count": 52,
   "metadata": {},
   "outputs": [
    {
     "name": "stdout",
     "output_type": "stream",
     "text": [
      "<class 'pandas.core.frame.DataFrame'>\n",
      "RangeIndex: 8315498 entries, 0 to 8315497\n",
      "Data columns (total 6 columns):\n",
      " #   Column    Dtype         \n",
      "---  ------    -----         \n",
      " 0   ts        datetime64[ns]\n",
      " 1   number    float64       \n",
      " 2   pick_lat  float64       \n",
      " 3   pick_lng  float64       \n",
      " 4   drop_lat  float64       \n",
      " 5   drop_lng  float64       \n",
      "dtypes: datetime64[ns](1), float64(5)\n",
      "memory usage: 380.7 MB\n"
     ]
    }
   ],
   "source": [
    "df.info()"
   ]
  },
  {
   "cell_type": "code",
   "execution_count": 53,
   "metadata": {},
   "outputs": [
    {
     "name": "stdout",
     "output_type": "stream",
     "text": [
      "<class 'pandas.core.frame.DataFrame'>\n",
      "RangeIndex: 8315498 entries, 0 to 8315497\n",
      "Data columns (total 6 columns):\n",
      " #   Column    Dtype         \n",
      "---  ------    -----         \n",
      " 0   ts        datetime64[ns]\n",
      " 1   number    float64       \n",
      " 2   pick_lat  float64       \n",
      " 3   pick_lng  float64       \n",
      " 4   drop_lat  float64       \n",
      " 5   drop_lng  float64       \n",
      "dtypes: datetime64[ns](1), float64(5)\n",
      "memory usage: 380.7 MB\n"
     ]
    }
   ],
   "source": [
    "df.info()"
   ]
  },
  {
   "cell_type": "code",
   "execution_count": 54,
   "metadata": {},
   "outputs": [
    {
     "data": {
      "text/html": [
       "<div>\n",
       "<style scoped>\n",
       "    .dataframe tbody tr th:only-of-type {\n",
       "        vertical-align: middle;\n",
       "    }\n",
       "\n",
       "    .dataframe tbody tr th {\n",
       "        vertical-align: top;\n",
       "    }\n",
       "\n",
       "    .dataframe thead th {\n",
       "        text-align: right;\n",
       "    }\n",
       "</style>\n",
       "<table border=\"1\" class=\"dataframe\">\n",
       "  <thead>\n",
       "    <tr style=\"text-align: right;\">\n",
       "      <th></th>\n",
       "      <th>ts</th>\n",
       "      <th>number</th>\n",
       "      <th>pick_lat</th>\n",
       "      <th>pick_lng</th>\n",
       "      <th>drop_lat</th>\n",
       "      <th>drop_lng</th>\n",
       "    </tr>\n",
       "  </thead>\n",
       "  <tbody>\n",
       "    <tr>\n",
       "      <th>0</th>\n",
       "      <td>2020-03-26 07:07:17</td>\n",
       "      <td>14626.0</td>\n",
       "      <td>12.313621</td>\n",
       "      <td>76.658195</td>\n",
       "      <td>12.287301</td>\n",
       "      <td>76.602280</td>\n",
       "    </tr>\n",
       "    <tr>\n",
       "      <th>1</th>\n",
       "      <td>2020-03-26 07:32:27</td>\n",
       "      <td>85490.0</td>\n",
       "      <td>12.943947</td>\n",
       "      <td>77.560745</td>\n",
       "      <td>12.954014</td>\n",
       "      <td>77.543770</td>\n",
       "    </tr>\n",
       "    <tr>\n",
       "      <th>2</th>\n",
       "      <td>2020-03-26 07:36:44</td>\n",
       "      <td>5408.0</td>\n",
       "      <td>12.899603</td>\n",
       "      <td>77.587300</td>\n",
       "      <td>12.934780</td>\n",
       "      <td>77.569950</td>\n",
       "    </tr>\n",
       "    <tr>\n",
       "      <th>3</th>\n",
       "      <td>2020-03-26 07:38:00</td>\n",
       "      <td>58940.0</td>\n",
       "      <td>12.918229</td>\n",
       "      <td>77.607544</td>\n",
       "      <td>12.968971</td>\n",
       "      <td>77.636375</td>\n",
       "    </tr>\n",
       "    <tr>\n",
       "      <th>4</th>\n",
       "      <td>2020-03-26 07:39:29</td>\n",
       "      <td>5408.0</td>\n",
       "      <td>12.899490</td>\n",
       "      <td>77.587270</td>\n",
       "      <td>12.934780</td>\n",
       "      <td>77.569950</td>\n",
       "    </tr>\n",
       "  </tbody>\n",
       "</table>\n",
       "</div>"
      ],
      "text/plain": [
       "                   ts   number   pick_lat   pick_lng   drop_lat   drop_lng\n",
       "0 2020-03-26 07:07:17  14626.0  12.313621  76.658195  12.287301  76.602280\n",
       "1 2020-03-26 07:32:27  85490.0  12.943947  77.560745  12.954014  77.543770\n",
       "2 2020-03-26 07:36:44   5408.0  12.899603  77.587300  12.934780  77.569950\n",
       "3 2020-03-26 07:38:00  58940.0  12.918229  77.607544  12.968971  77.636375\n",
       "4 2020-03-26 07:39:29   5408.0  12.899490  77.587270  12.934780  77.569950"
      ]
     },
     "execution_count": 54,
     "metadata": {},
     "output_type": "execute_result"
    }
   ],
   "source": [
    "df.head()"
   ]
  },
  {
   "cell_type": "markdown",
   "metadata": {},
   "source": [
    "#### BREAKING TIME TO FEATURE \n",
    "\n",
    "* Many machine learning models, especially those not specifically designed for time series (e.g., linear regression, decision trees), don't inherently understand the continuous and cyclical nature of time data. By converting time into more granular features, you make the patterns more explicit and the data more amenable to these models"
   ]
  },
  {
   "cell_type": "code",
   "execution_count": 55,
   "metadata": {},
   "outputs": [],
   "source": [
    "df['hour'] = df['ts'].dt.hour\n",
    "df['mins'] = df['ts'].dt.minute\n",
    "df['day'] = df['ts'].dt.day\n",
    "df['month'] = df['ts'].dt.month\n",
    "df['year'] = df['ts'].dt.year\n",
    "df['dayofweek'] = df['ts'].dt.dayofweek\n"
   ]
  },
  {
   "cell_type": "code",
   "execution_count": 56,
   "metadata": {},
   "outputs": [
    {
     "data": {
      "text/html": [
       "<div>\n",
       "<style scoped>\n",
       "    .dataframe tbody tr th:only-of-type {\n",
       "        vertical-align: middle;\n",
       "    }\n",
       "\n",
       "    .dataframe tbody tr th {\n",
       "        vertical-align: top;\n",
       "    }\n",
       "\n",
       "    .dataframe thead th {\n",
       "        text-align: right;\n",
       "    }\n",
       "</style>\n",
       "<table border=\"1\" class=\"dataframe\">\n",
       "  <thead>\n",
       "    <tr style=\"text-align: right;\">\n",
       "      <th></th>\n",
       "      <th>ts</th>\n",
       "      <th>number</th>\n",
       "      <th>pick_lat</th>\n",
       "      <th>pick_lng</th>\n",
       "      <th>drop_lat</th>\n",
       "      <th>drop_lng</th>\n",
       "      <th>hour</th>\n",
       "      <th>mins</th>\n",
       "      <th>day</th>\n",
       "      <th>month</th>\n",
       "      <th>year</th>\n",
       "      <th>dayofweek</th>\n",
       "    </tr>\n",
       "  </thead>\n",
       "  <tbody>\n",
       "    <tr>\n",
       "      <th>0</th>\n",
       "      <td>2020-03-26 07:07:17</td>\n",
       "      <td>14626.0</td>\n",
       "      <td>12.313621</td>\n",
       "      <td>76.658195</td>\n",
       "      <td>12.287301</td>\n",
       "      <td>76.602280</td>\n",
       "      <td>7</td>\n",
       "      <td>7</td>\n",
       "      <td>26</td>\n",
       "      <td>3</td>\n",
       "      <td>2020</td>\n",
       "      <td>3</td>\n",
       "    </tr>\n",
       "    <tr>\n",
       "      <th>1</th>\n",
       "      <td>2020-03-26 07:32:27</td>\n",
       "      <td>85490.0</td>\n",
       "      <td>12.943947</td>\n",
       "      <td>77.560745</td>\n",
       "      <td>12.954014</td>\n",
       "      <td>77.543770</td>\n",
       "      <td>7</td>\n",
       "      <td>32</td>\n",
       "      <td>26</td>\n",
       "      <td>3</td>\n",
       "      <td>2020</td>\n",
       "      <td>3</td>\n",
       "    </tr>\n",
       "    <tr>\n",
       "      <th>2</th>\n",
       "      <td>2020-03-26 07:36:44</td>\n",
       "      <td>5408.0</td>\n",
       "      <td>12.899603</td>\n",
       "      <td>77.587300</td>\n",
       "      <td>12.934780</td>\n",
       "      <td>77.569950</td>\n",
       "      <td>7</td>\n",
       "      <td>36</td>\n",
       "      <td>26</td>\n",
       "      <td>3</td>\n",
       "      <td>2020</td>\n",
       "      <td>3</td>\n",
       "    </tr>\n",
       "    <tr>\n",
       "      <th>3</th>\n",
       "      <td>2020-03-26 07:38:00</td>\n",
       "      <td>58940.0</td>\n",
       "      <td>12.918229</td>\n",
       "      <td>77.607544</td>\n",
       "      <td>12.968971</td>\n",
       "      <td>77.636375</td>\n",
       "      <td>7</td>\n",
       "      <td>38</td>\n",
       "      <td>26</td>\n",
       "      <td>3</td>\n",
       "      <td>2020</td>\n",
       "      <td>3</td>\n",
       "    </tr>\n",
       "    <tr>\n",
       "      <th>4</th>\n",
       "      <td>2020-03-26 07:39:29</td>\n",
       "      <td>5408.0</td>\n",
       "      <td>12.899490</td>\n",
       "      <td>77.587270</td>\n",
       "      <td>12.934780</td>\n",
       "      <td>77.569950</td>\n",
       "      <td>7</td>\n",
       "      <td>39</td>\n",
       "      <td>26</td>\n",
       "      <td>3</td>\n",
       "      <td>2020</td>\n",
       "      <td>3</td>\n",
       "    </tr>\n",
       "  </tbody>\n",
       "</table>\n",
       "</div>"
      ],
      "text/plain": [
       "                   ts   number   pick_lat   pick_lng   drop_lat   drop_lng  \\\n",
       "0 2020-03-26 07:07:17  14626.0  12.313621  76.658195  12.287301  76.602280   \n",
       "1 2020-03-26 07:32:27  85490.0  12.943947  77.560745  12.954014  77.543770   \n",
       "2 2020-03-26 07:36:44   5408.0  12.899603  77.587300  12.934780  77.569950   \n",
       "3 2020-03-26 07:38:00  58940.0  12.918229  77.607544  12.968971  77.636375   \n",
       "4 2020-03-26 07:39:29   5408.0  12.899490  77.587270  12.934780  77.569950   \n",
       "\n",
       "   hour  mins  day  month  year  dayofweek  \n",
       "0     7     7   26      3  2020          3  \n",
       "1     7    32   26      3  2020          3  \n",
       "2     7    36   26      3  2020          3  \n",
       "3     7    38   26      3  2020          3  \n",
       "4     7    39   26      3  2020          3  "
      ]
     },
     "execution_count": 56,
     "metadata": {},
     "output_type": "execute_result"
    }
   ],
   "source": [
    "df.head()"
   ]
  }
 ],
 "metadata": {
  "kernelspec": {
   "display_name": "Python 3.9.5 64-bit",
   "language": "python",
   "name": "python3"
  },
  "language_info": {
   "codemirror_mode": {
    "name": "ipython",
    "version": 3
   },
   "file_extension": ".py",
   "mimetype": "text/x-python",
   "name": "python",
   "nbconvert_exporter": "python",
   "pygments_lexer": "ipython3",
   "version": "3.9.5"
  },
  "orig_nbformat": 4,
  "vscode": {
   "interpreter": {
    "hash": "aee8b7b246df8f9039afb4144a1f6fd8d2ca17a180786b69acc140d282b71a49"
   }
  }
 },
 "nbformat": 4,
 "nbformat_minor": 2
}
